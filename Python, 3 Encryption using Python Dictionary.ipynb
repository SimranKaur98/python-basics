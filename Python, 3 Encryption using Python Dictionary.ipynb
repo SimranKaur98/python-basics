{
 "cells": [
  {
   "cell_type": "code",
   "execution_count": 1,
   "metadata": {},
   "outputs": [],
   "source": [
    "dict = {\"A\":\"L\",\"B\":\"M\",\"C\":\"N\",\"D\":\"O\",\n",
    "        \"E\":\"P\",\"F\":\"Q\",\"G\":\"R\",\"H\":\"S\",\n",
    "        \"I\":\"T\",\"J\":\"U\",\"K\":\"V\",\"L\":\"W\",\n",
    "        \"M\":\"X\",\"N\":\"Y\",\"O\":\"Z\",\"P\":\"A\",\n",
    "        \"Q\":\"B\",\"R\":\"C\",\"S\":\"D\",\"T\":\"E\",\n",
    "        \"U\":\"F\",\"V\":\"G\",\"W\":\"H\",\"X\":\"I\",\n",
    "        \"Y\":\"J\",\"Z\":\"K\",\" \":\" \"}"
   ]
  },
  {
   "cell_type": "code",
   "execution_count": 2,
   "metadata": {},
   "outputs": [
    {
     "name": "stdout",
     "output_type": "stream",
     "text": [
      "Enter message : Confidential\n"
     ]
    }
   ],
   "source": [
    "message = input(\"Enter message : \").upper()"
   ]
  },
  {
   "cell_type": "code",
   "execution_count": 3,
   "metadata": {},
   "outputs": [],
   "source": [
    "encrypted = \"\""
   ]
  },
  {
   "cell_type": "code",
   "execution_count": 4,
   "metadata": {},
   "outputs": [],
   "source": [
    "for letter in message:\n",
    "    if letter in dict:\n",
    "        encrypted += dict[letter]\n",
    "    else: \n",
    "        encrypted += letter"
   ]
  },
  {
   "cell_type": "code",
   "execution_count": 6,
   "metadata": {},
   "outputs": [
    {
     "name": "stdout",
     "output_type": "stream",
     "text": [
      "Encrypted message :  nzyqtopyetlw\n"
     ]
    }
   ],
   "source": [
    "print(\"Encrypted message : \",encrypted.lower())"
   ]
  }
 ],
 "metadata": {
  "kernelspec": {
   "display_name": "Python 3",
   "language": "python",
   "name": "python3"
  },
  "language_info": {
   "codemirror_mode": {
    "name": "ipython",
    "version": 3
   },
   "file_extension": ".py",
   "mimetype": "text/x-python",
   "name": "python",
   "nbconvert_exporter": "python",
   "pygments_lexer": "ipython3",
   "version": "3.6.8"
  }
 },
 "nbformat": 4,
 "nbformat_minor": 2
}
