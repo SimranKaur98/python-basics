{
 "cells": [
  {
   "cell_type": "code",
   "execution_count": 1,
   "metadata": {},
   "outputs": [],
   "source": [
    "def add(a,b):\n",
    "    return a+b"
   ]
  },
  {
   "cell_type": "code",
   "execution_count": 2,
   "metadata": {},
   "outputs": [],
   "source": [
    "def sub(a,b):\n",
    "    return a-b"
   ]
  },
  {
   "cell_type": "code",
   "execution_count": 3,
   "metadata": {},
   "outputs": [],
   "source": [
    "def mul(a,b):\n",
    "    return a*b"
   ]
  },
  {
   "cell_type": "code",
   "execution_count": 4,
   "metadata": {},
   "outputs": [],
   "source": [
    "def div(a,b):\n",
    "    return a/b"
   ]
  },
  {
   "cell_type": "code",
   "execution_count": 5,
   "metadata": {},
   "outputs": [
    {
     "name": "stdout",
     "output_type": "stream",
     "text": [
      "Select operation :\n",
      "1. Add\n",
      "2.Subtract\n",
      "3.Multiplication\n",
      "4.Divide\n"
     ]
    }
   ],
   "source": [
    "print(\"Select operation :\\n1. Add\\n2. Subtract\\n3. Multiplication\\n4. Divide\")"
   ]
  },
  {
   "cell_type": "code",
   "execution_count": 7,
   "metadata": {},
   "outputs": [
    {
     "name": "stdout",
     "output_type": "stream",
     "text": [
      "Enter (1/2/3/4) : 2\n"
     ]
    }
   ],
   "source": [
    "operator = int(input(\"Enter (1/2/3/4) : \"))"
   ]
  },
  {
   "cell_type": "code",
   "execution_count": 8,
   "metadata": {},
   "outputs": [
    {
     "name": "stdout",
     "output_type": "stream",
     "text": [
      "Enter operand1 : 15\n",
      "Enter operand2 : 5\n"
     ]
    }
   ],
   "source": [
    "operand1 = int(input(\"Enter operand1 : \"))\n",
    "operand2 = int(input(\"Enter operand2 : \"))"
   ]
  },
  {
   "cell_type": "code",
   "execution_count": 9,
   "metadata": {},
   "outputs": [
    {
     "name": "stdout",
     "output_type": "stream",
     "text": [
      "Ans :  10\n"
     ]
    }
   ],
   "source": [
    "if operator == 1:\n",
    "    print(\"Ans : \",add(operand1,operand2))\n",
    "elif operator == 2:\n",
    "    print(\"Ans : \",sub(operand1,operand2))\n",
    "elif operator == 3:\n",
    "    print(\"Ans : \",mul(operand1,operand2))\n",
    "elif operator == 4:\n",
    "    print(\"Ans : \",div(operand1,operand2))"
   ]
  }
 ],
 "metadata": {
  "kernelspec": {
   "display_name": "Python 3",
   "language": "python",
   "name": "python3"
  },
  "language_info": {
   "codemirror_mode": {
    "name": "ipython",
    "version": 3
   },
   "file_extension": ".py",
   "mimetype": "text/x-python",
   "name": "python",
   "nbconvert_exporter": "python",
   "pygments_lexer": "ipython3",
   "version": "3.6.8"
  }
 },
 "nbformat": 4,
 "nbformat_minor": 2
}
