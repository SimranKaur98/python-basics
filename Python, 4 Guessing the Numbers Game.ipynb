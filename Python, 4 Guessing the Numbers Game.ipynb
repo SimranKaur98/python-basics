{
 "cells": [
  {
   "cell_type": "code",
   "execution_count": 1,
   "metadata": {},
   "outputs": [],
   "source": [
    "guess = []"
   ]
  },
  {
   "cell_type": "code",
   "execution_count": 2,
   "metadata": {},
   "outputs": [],
   "source": [
    "import random"
   ]
  },
  {
   "cell_type": "code",
   "execution_count": 3,
   "metadata": {},
   "outputs": [],
   "source": [
    "cpu_num = random.randint(1,100)"
   ]
  },
  {
   "cell_type": "code",
   "execution_count": 4,
   "metadata": {},
   "outputs": [
    {
     "name": "stdout",
     "output_type": "stream",
     "text": [
      "Enter a number between 1 to 100 : 20\n"
     ]
    }
   ],
   "source": [
    "player_num = int(input(\"Enter a number between 1 to 100 : \"))"
   ]
  },
  {
   "cell_type": "code",
   "execution_count": 5,
   "metadata": {},
   "outputs": [
    {
     "name": "stdout",
     "output_type": "stream",
     "text": [
      "Too low !!!\n",
      "Enter a number beteen 1 to 100 : 50\n",
      "Too low !!!\n",
      "Enter a number beteen 1 to 100 : 70\n",
      "Too high !!!\n",
      "Enter a number beteen 1 to 100 : 60\n",
      "Too low !!!\n",
      "Enter a number beteen 1 to 100 : 65\n",
      "Too low !!!\n",
      "Enter a number beteen 1 to 100 : 67\n",
      "Well Done!\n",
      " You took 5 guesses\n",
      "Here are your Guesses :  [50, 70, 60, 65, 67]\n"
     ]
    }
   ],
   "source": [
    "while cpu_num != player_num:\n",
    "    if cpu_num > player_num:\n",
    "        print(\"Too low !!!\")\n",
    "    else:\n",
    "        print(\"Too high !!!\")\n",
    "    player_num = int(input(\"Enter a number beteen 1 to 100 : \"))\n",
    "    guess.append(player_num)\n",
    "\n",
    "else:\n",
    "    print(\"Well Done!\")\n",
    "    print(\" You took {} guesses\".format(len(guess)))\n",
    "    print(\"Here are your Guesses : \",guess)"
   ]
  }
 ],
 "metadata": {
  "kernelspec": {
   "display_name": "Python 3",
   "language": "python",
   "name": "python3"
  },
  "language_info": {
   "codemirror_mode": {
    "name": "ipython",
    "version": 3
   },
   "file_extension": ".py",
   "mimetype": "text/x-python",
   "name": "python",
   "nbconvert_exporter": "python",
   "pygments_lexer": "ipython3",
   "version": "3.6.8"
  }
 },
 "nbformat": 4,
 "nbformat_minor": 2
}
