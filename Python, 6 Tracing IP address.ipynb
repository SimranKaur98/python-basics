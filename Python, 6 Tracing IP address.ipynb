{
 "cells": [
  {
   "cell_type": "code",
   "execution_count": 1,
   "metadata": {},
   "outputs": [],
   "source": [
    "import requests"
   ]
  },
  {
   "cell_type": "code",
   "execution_count": 11,
   "metadata": {},
   "outputs": [],
   "source": [
    "res = requests.get(\"https://ipinfo.io\")"
   ]
  },
  {
   "cell_type": "code",
   "execution_count": 12,
   "metadata": {},
   "outputs": [],
   "source": [
    "data = res.json()\n",
    "#json is used here to store the string info in res as dictionary"
   ]
  },
  {
   "cell_type": "code",
   "execution_count": 13,
   "metadata": {},
   "outputs": [
    {
     "name": "stdout",
     "output_type": "stream",
     "text": [
      "<class 'str'>\n",
      "{\n",
      "  \"ip\": \"111.223.26.63\",\n",
      "  \"city\": \"Delhi\",\n",
      "  \"region\": \"Delhi\",\n",
      "  \"country\": \"IN\",\n",
      "  \"loc\": \"28.6519,77.2315\",\n",
      "  \"org\": \"AS17665 AS Number of Indusind Media and communication Ltd.\",\n",
      "  \"postal\": \"110001\",\n",
      "  \"timezone\": \"Asia/Kolkata\",\n",
      "  \"readme\": \"https://ipinfo.io/missingauth\"\n",
      "}\n"
     ]
    }
   ],
   "source": [
    "print(type(res.text))\n",
    "print(res.text)"
   ]
  },
  {
   "cell_type": "code",
   "execution_count": 14,
   "metadata": {},
   "outputs": [
    {
     "name": "stdout",
     "output_type": "stream",
     "text": [
      "<class 'dict'>\n",
      "{'ip': '111.223.26.63', 'city': 'Delhi', 'region': 'Delhi', 'country': 'IN', 'loc': '28.6519,77.2315', 'org': 'AS17665 AS Number of Indusind Media and communication Ltd.', 'postal': '110001', 'timezone': 'Asia/Kolkata', 'readme': 'https://ipinfo.io/missingauth'}\n"
     ]
    }
   ],
   "source": [
    "print(type(data))\n",
    "print(data)"
   ]
  },
  {
   "cell_type": "code",
   "execution_count": 16,
   "metadata": {},
   "outputs": [],
   "source": [
    "ip = data[\"ip\"]\n",
    "city = data[\"city\"]\n",
    "region = data[\"region\"]\n",
    "country = data[\"country\"]\n",
    "location = data[\"loc\"].split(\",\")\n",
    "lattitude = location[0]\n",
    "longitude = location[1]"
   ]
  },
  {
   "cell_type": "code",
   "execution_count": 17,
   "metadata": {},
   "outputs": [
    {
     "name": "stdout",
     "output_type": "stream",
     "text": [
      "IP :  111.223.26.63\n",
      "City :  Delhi\n",
      "Region :  Delhi\n",
      "Country :  IN\n",
      "Lattitude :  28.6519\n",
      "Longitude :  77.2315\n"
     ]
    }
   ],
   "source": [
    "print(\"IP : \",ip)\n",
    "print(\"City : \",city)\n",
    "print(\"Region : \",region)\n",
    "print(\"Country : \",country)\n",
    "print(\"Lattitude : \",lattitude)\n",
    "print(\"Longitude : \",longitude)"
   ]
  }
 ],
 "metadata": {
  "kernelspec": {
   "display_name": "Python 3",
   "language": "python",
   "name": "python3"
  },
  "language_info": {
   "codemirror_mode": {
    "name": "ipython",
    "version": 3
   },
   "file_extension": ".py",
   "mimetype": "text/x-python",
   "name": "python",
   "nbconvert_exporter": "python",
   "pygments_lexer": "ipython3",
   "version": "3.6.8"
  }
 },
 "nbformat": 4,
 "nbformat_minor": 2
}
